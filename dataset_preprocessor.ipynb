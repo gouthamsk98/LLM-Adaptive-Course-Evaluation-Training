{
 "cells": [
  {
   "cell_type": "markdown",
   "metadata": {},
   "source": [
    "Install the dependency"
   ]
  },
  {
   "cell_type": "code",
   "execution_count": null,
   "metadata": {},
   "outputs": [],
   "source": [
    "!pip3 install nltk"
   ]
  },
  {
   "cell_type": "markdown",
   "metadata": {},
   "source": [
    "Util Function for clean up"
   ]
  },
  {
   "cell_type": "code",
   "execution_count": 1,
   "metadata": {},
   "outputs": [],
   "source": [
    "import os\n",
    "import re\n",
    "import pandas as pd\n",
    "import numpy as np\n",
    "\n",
    "\n",
    "def extract_text_from_folder(folder_path,column_name=\"text\"):\n",
    "    text_data = []\n",
    "    for root, dirs, files in os.walk(folder_path):\n",
    "        for file_name in files:\n",
    "            if file_name.endswith(('.txt', '.rst')):\n",
    "                file_path = os.path.join(root, file_name)\n",
    "                with open(file_path, 'r', encoding='utf-8') as file:\n",
    "                    text = file.read()\n",
    "                    text_data.append(text)\n",
    "    text_data_df = pd.DataFrame(np.array(text_data), columns=[column_name])\n",
    "    return text_data_df\n",
    "def extract_code_from_folder(folder_path,column_name=\"text\"):\n",
    "    text_data = []\n",
    "    for root, dirs, files in os.walk(folder_path):\n",
    "        for file_name in files:\n",
    "            if file_name.endswith(('.h')):\n",
    "                file_path = os.path.join(root, file_name)\n",
    "                with open(file_path, 'r', encoding='utf-8') as file:\n",
    "                    text = file.read()\n",
    "                    text_data.append(text)\n",
    "    text_data_df = pd.DataFrame(np.array(text_data), columns=[column_name])\n",
    "    return text_data_df\n",
    "\n",
    "def clean_text_data(text_data):\n",
    "    # Remove Markdown links\n",
    "    text_data = re.sub(r'\\:link_to_translation\\:\\`[^`]*\\`', '', text_data)\n",
    "    \n",
    "    # Remove code blocks\n",
    "    text_data = re.sub(r'```.*?```', '', text_data, flags=re.DOTALL)\n",
    "    \n",
    "    # Remove HTML tags\n",
    "    text_data = re.sub(r'<[^>]+>', '', text_data)\n",
    "    \n",
    "    # Remove section headers\n",
    "    text_data = re.sub(r'^=+\\n.*\\n=+\\n', '', text_data, flags=re.MULTILINE)\n",
    "    text_data = re.sub(r'^-+\\n.*\\n-+\\n', '', text_data, flags=re.MULTILINE)\n",
    "    \n",
    "    # Remove bulleted lists\n",
    "    text_data = re.sub(r'^\\s*\\*\\s+.*\\n', '', text_data, flags=re.MULTILINE)\n",
    "    \n",
    "    # Remove numbered lists\n",
    "    text_data = re.sub(r'^\\s*\\d+\\.\\s+.*\\n', '', text_data, flags=re.MULTILINE)\n",
    "    #Remove special sequence\n",
    "    text_data=re.sub(r'====+','',text_data) \n",
    "    text_data=re.sub(r'\\^\\^\\^\\^+','',text_data) \n",
    "    text_data=re.sub(r'----+','',text_data) \n",
    "    text_data=re.sub(r'\\*\\*\\*\\*\\*+','',text_data) \n",
    "    # Remove indentation and empty lines\n",
    "    # text_data = re.sub(r'^\\s+', '', text_data, flags=re.MULTILINE)\n",
    "    # text_data = re.sub(r'^\\n', '', text_data, flags=re.MULTILINE)\n",
    "    \n",
    "    return text_data"
   ]
  },
  {
   "cell_type": "markdown",
   "metadata": {},
   "source": [
    "Split the textual data into chunk"
   ]
  },
  {
   "cell_type": "code",
   "execution_count": null,
   "metadata": {},
   "outputs": [],
   "source": [
    "\n",
    "import pandas as pd\n",
    "import nltk.data\n",
    "\n",
    "# Load the NLTK sentence tokenizer\n",
    "tokenizer = nltk.data.load('tokenizers/punkt/english.pickle')\n",
    "\n",
    "\n",
    "def split_text(text, chunk_size=500):\n",
    "    # Define regex pattern for identifying sentence endings\n",
    "    sentence_endings = r'[.!?]'\n",
    "    chunks = []\n",
    "    current_chunk = \"\"\n",
    "    current_length = 0\n",
    "    for char in text:\n",
    "        current_chunk += char\n",
    "        current_length += 1\n",
    "        if re.search(sentence_endings, char):\n",
    "            if current_length >= chunk_size:\n",
    "                chunks.append(current_chunk)\n",
    "                current_chunk = \"\"\n",
    "                current_length = 0\n",
    "    if current_chunk:  # Append any remaining part\n",
    "        chunks.append(current_chunk)\n",
    "    return chunks\n",
    "\n",
    "def split_dataframe_manual(df, column_name='text', chunk_size=500):\n",
    "    new_rows = []\n",
    "    for index, row in df.iterrows():\n",
    "        text = row[column_name]\n",
    "        chunks = split_text(text, chunk_size)\n",
    "        for chunk in chunks:\n",
    "            new_row = row.copy()\n",
    "            new_row[column_name] = chunk\n",
    "            new_rows.append(new_row)\n",
    "    return pd.DataFrame(new_rows)\n",
    "\n"
   ]
  },
  {
   "cell_type": "markdown",
   "metadata": {},
   "source": [
    "Token distribution plotting"
   ]
  },
  {
   "cell_type": "code",
   "execution_count": null,
   "metadata": {},
   "outputs": [],
   "source": [
    "import matplotlib.pyplot as plt\n",
    "from transformers import AutoTokenizer, AutoModelForCausalLM, BitsAndBytesConfig\n",
    "base_model_id = \"mistralai/Mistral-7B-Instruct-v0.2\"\n",
    "tokenizer = AutoTokenizer.from_pretrained(\n",
    "    base_model_id,\n",
    "    padding_side=\"left\",\n",
    "    add_eos_token=True,\n",
    "    add_bos_token=True,\n",
    ")\n",
    "tokenizer.pad_token = tokenizer.eos_token\n",
    "\n",
    "def generate_and_tokenize_prompt(prompt):\n",
    "    return tokenizer(prompt[\"text\"])\n",
    "\n",
    "def plot_data_lengths(tokenized_train_dataset,column_name=\"text\"):\n",
    "    lengths = [len(x[column_name]) for x in tokenized_train_dataset]\n",
    "    # lengths += [len(x['text_data']) for x in tokenized_val_dataset]\n",
    "    print(len(lengths))\n",
    "\n",
    "    # Plotting the histogram\n",
    "    plt.figure(figsize=(10, 6))\n",
    "    plt.hist(lengths, bins=20, alpha=0.7, color='blue')\n",
    "    plt.xlabel('Length of input_ids')\n",
    "    plt.ylabel('Frequency')\n",
    "    plt.title('Distribution of Lengths of input_ids')\n",
    "    plt.show()\n",
    "\n"
   ]
  },
  {
   "cell_type": "markdown",
   "metadata": {},
   "source": [
    "ESP_IDF docs cleanup"
   ]
  },
  {
   "cell_type": "code",
   "execution_count": null,
   "metadata": {},
   "outputs": [],
   "source": [
    "text_data = extract_text_from_folder(\"./raw_dataset_USFTHF/docs/\",column_name=\"text\")\n",
    "text_data\n"
   ]
  },
  {
   "cell_type": "code",
   "execution_count": null,
   "metadata": {},
   "outputs": [],
   "source": [
    "clean_data = text_data.drop_duplicates()\n",
    "clean_data = clean_data.map(clean_text_data)\n"
   ]
  },
  {
   "cell_type": "code",
   "execution_count": null,
   "metadata": {},
   "outputs": [],
   "source": []
  },
  {
   "cell_type": "code",
   "execution_count": null,
   "metadata": {},
   "outputs": [],
   "source": [
    "from datasets import Dataset\n",
    "train_dataset = Dataset.from_pandas(clean_data)\n",
    "train_dataset= train_dataset.map()"
   ]
  },
  {
   "cell_type": "code",
   "execution_count": null,
   "metadata": {},
   "outputs": [],
   "source": []
  },
  {
   "cell_type": "code",
   "execution_count": null,
   "metadata": {},
   "outputs": [],
   "source": [
    "tokenized_train_dataset = train_dataset.map(generate_and_tokenize_prompt)\n",
    "# tokenized_train_dataset = train_dataset.map(generate_and_tokenize_prompt)\n",
    "plot_data_lengths(tokenized_train_dataset)"
   ]
  },
  {
   "cell_type": "code",
   "execution_count": null,
   "metadata": {},
   "outputs": [],
   "source": []
  },
  {
   "cell_type": "code",
   "execution_count": null,
   "metadata": {},
   "outputs": [],
   "source": [
    "# split_data=split_dataframe_manual(clean_data,column_name=\"text\",max_chunk_size=1000,max_total_size=4000)\n",
    "split_data=split_dataframe_manual(clean_data,column_name=\"text\",chunk_size=1000)\n",
    "\n",
    "split_data\n",
    "train_dataset = Dataset.from_pandas(split_data)\n",
    "train_dataset"
   ]
  },
  {
   "cell_type": "code",
   "execution_count": null,
   "metadata": {},
   "outputs": [],
   "source": [
    "train_dataset"
   ]
  },
  {
   "cell_type": "code",
   "execution_count": null,
   "metadata": {},
   "outputs": [],
   "source": [
    "\n",
    "tokenized_train_dataset = train_dataset.map(generate_and_tokenize_prompt)\n",
    "plot_data_lengths(tokenized_train_dataset)\n"
   ]
  },
  {
   "cell_type": "markdown",
   "metadata": {},
   "source": [
    "Remove extra lengthy word\n"
   ]
  },
  {
   "cell_type": "code",
   "execution_count": null,
   "metadata": {},
   "outputs": [],
   "source": [
    "split_data = split_data[split_data['text'].apply(lambda x: len(str(x)) <= 4000)]\n",
    "\n",
    "train_dataset = Dataset.from_pandas(split_data)\n",
    "train_dataset"
   ]
  },
  {
   "cell_type": "code",
   "execution_count": null,
   "metadata": {},
   "outputs": [],
   "source": [
    "\n",
    "tokenized_train_dataset = train_dataset.map(generate_and_tokenize_prompt)\n",
    "plot_data_lengths(tokenized_train_dataset)"
   ]
  },
  {
   "cell_type": "code",
   "execution_count": null,
   "metadata": {},
   "outputs": [],
   "source": [
    "train_dataset.push_to_hub(\"gouthamsk/esp_idf_text\",split=\"train\")"
   ]
  },
  {
   "cell_type": "markdown",
   "metadata": {},
   "source": [
    "Cleanup ESP_idf code example"
   ]
  },
  {
   "cell_type": "code",
   "execution_count": 3,
   "metadata": {},
   "outputs": [
    {
     "data": {
      "text/html": [
       "<div>\n",
       "<style scoped>\n",
       "    .dataframe tbody tr th:only-of-type {\n",
       "        vertical-align: middle;\n",
       "    }\n",
       "\n",
       "    .dataframe tbody tr th {\n",
       "        vertical-align: top;\n",
       "    }\n",
       "\n",
       "    .dataframe thead th {\n",
       "        text-align: right;\n",
       "    }\n",
       "</style>\n",
       "<table border=\"1\" class=\"dataframe\">\n",
       "  <thead>\n",
       "    <tr style=\"text-align: right;\">\n",
       "      <th></th>\n",
       "      <th>text</th>\n",
       "    </tr>\n",
       "  </thead>\n",
       "  <tbody>\n",
       "    <tr>\n",
       "      <th>0</th>\n",
       "      <td>/*\\n * SPDX-FileCopyrightText: 2022-2023 Espre...</td>\n",
       "    </tr>\n",
       "    <tr>\n",
       "      <th>1</th>\n",
       "      <td>/*\\n * SPDX-FileCopyrightText: 2024 Espressif ...</td>\n",
       "    </tr>\n",
       "    <tr>\n",
       "      <th>2</th>\n",
       "      <td>/*\\n * SPDX-FileCopyrightText: 2023 Espressif ...</td>\n",
       "    </tr>\n",
       "    <tr>\n",
       "      <th>3</th>\n",
       "      <td>/*\\n * SPDX-FileCopyrightText: 2017-2021 Espre...</td>\n",
       "    </tr>\n",
       "    <tr>\n",
       "      <th>4</th>\n",
       "      <td>/*\\n * SPDX-FileCopyrightText: 2015-2021 Espre...</td>\n",
       "    </tr>\n",
       "    <tr>\n",
       "      <th>...</th>\n",
       "      <td>...</td>\n",
       "    </tr>\n",
       "    <tr>\n",
       "      <th>4161</th>\n",
       "      <td>#ifndef __HTTPD_TESTS_H__\\n#define __HTTPD_TES...</td>\n",
       "    </tr>\n",
       "    <tr>\n",
       "      <th>4162</th>\n",
       "      <td>/*\\n * SPDX-FileCopyrightText: 2021-2023 Espre...</td>\n",
       "    </tr>\n",
       "    <tr>\n",
       "      <th>4163</th>\n",
       "      <td>/*\\n * SPDX-FileCopyrightText: 2022-2023 Espre...</td>\n",
       "    </tr>\n",
       "    <tr>\n",
       "      <th>4164</th>\n",
       "      <td>/* Keep Alive engine for wss server example\\n\\...</td>\n",
       "    </tr>\n",
       "    <tr>\n",
       "      <th>4165</th>\n",
       "      <td>/*\\n * SPDX-FileCopyrightText: 2016-2021 Espre...</td>\n",
       "    </tr>\n",
       "  </tbody>\n",
       "</table>\n",
       "<p>4166 rows × 1 columns</p>\n",
       "</div>"
      ],
      "text/plain": [
       "                                                   text\n",
       "0     /*\\n * SPDX-FileCopyrightText: 2022-2023 Espre...\n",
       "1     /*\\n * SPDX-FileCopyrightText: 2024 Espressif ...\n",
       "2     /*\\n * SPDX-FileCopyrightText: 2023 Espressif ...\n",
       "3     /*\\n * SPDX-FileCopyrightText: 2017-2021 Espre...\n",
       "4     /*\\n * SPDX-FileCopyrightText: 2015-2021 Espre...\n",
       "...                                                 ...\n",
       "4161  #ifndef __HTTPD_TESTS_H__\\n#define __HTTPD_TES...\n",
       "4162  /*\\n * SPDX-FileCopyrightText: 2021-2023 Espre...\n",
       "4163  /*\\n * SPDX-FileCopyrightText: 2022-2023 Espre...\n",
       "4164  /* Keep Alive engine for wss server example\\n\\...\n",
       "4165  /*\\n * SPDX-FileCopyrightText: 2016-2021 Espre...\n",
       "\n",
       "[4166 rows x 1 columns]"
      ]
     },
     "execution_count": 3,
     "metadata": {},
     "output_type": "execute_result"
    }
   ],
   "source": [
    "code_data = extract_code_from_folder(\"./raw_dataset_USFTHF/code/\",column_name=\"text\")\n",
    "code_data.to_csv('clean_data.csv', index=False)\n",
    "code_data"
   ]
  },
  {
   "cell_type": "code",
   "execution_count": null,
   "metadata": {},
   "outputs": [],
   "source": [
    "clean_code = code_data.drop_duplicates()\n",
    "# clean_code = code_data.map(clean_text_data)\n",
    "\n",
    "# clean_code"
   ]
  },
  {
   "cell_type": "code",
   "execution_count": null,
   "metadata": {},
   "outputs": [],
   "source": [
    "split_data=split_dataframe_manual(clean_code,column_name=\"text\",chunk_size=1000)\n"
   ]
  },
  {
   "cell_type": "code",
   "execution_count": null,
   "metadata": {},
   "outputs": [],
   "source": [
    "from datasets import Dataset\n",
    "train_dataset = Dataset.from_pandas(clean_code)\n",
    "tokenized_train_dataset = train_dataset.map(generate_and_tokenize_prompt)"
   ]
  },
  {
   "cell_type": "code",
   "execution_count": null,
   "metadata": {},
   "outputs": [],
   "source": [
    "plot_data_lengths(tokenized_train_dataset)"
   ]
  },
  {
   "cell_type": "code",
   "execution_count": null,
   "metadata": {},
   "outputs": [],
   "source": [
    "\n",
    "tokenized_train_dataset = train_dataset.map(generate_and_tokenize_prompt)\n"
   ]
  },
  {
   "cell_type": "code",
   "execution_count": null,
   "metadata": {},
   "outputs": [],
   "source": [
    "from sklearn.model_selection import train_test_split\n",
    "from datasets import Dataset\n",
    "# Drop duplicate rows across all columns\n",
    "\n",
    "train_data, test_data = train_test_split(new_df, test_size=0.1)\n"
   ]
  },
  {
   "cell_type": "code",
   "execution_count": null,
   "metadata": {},
   "outputs": [],
   "source": [
    "\n"
   ]
  },
  {
   "cell_type": "code",
   "execution_count": null,
   "metadata": {},
   "outputs": [],
   "source": [
    "train_dataset = Dataset.from_pandas(split_train_data)\n",
    "train_dataset.push_to_hub(\"gouthamsk/esp_idf_text\",split=\"train\")"
   ]
  },
  {
   "cell_type": "code",
   "execution_count": null,
   "metadata": {},
   "outputs": [],
   "source": [
    "from sklearn.model_selection import train_test_split\n",
    "from datasets import Dataset\n",
    "# Drop duplicate rows across all columns\n",
    "new_df = new_df.drop_duplicates()\n",
    "train_data, test_data = train_test_split(new_df, test_size=0.2)\n",
    "train_dataset = Dataset.from_pandas(train_data)\n",
    "eval_dataset = Dataset.from_pandas(test_data)"
   ]
  },
  {
   "cell_type": "code",
   "execution_count": null,
   "metadata": {},
   "outputs": [],
   "source": [
    "test_data"
   ]
  },
  {
   "cell_type": "code",
   "execution_count": null,
   "metadata": {},
   "outputs": [],
   "source": [
    "\n",
    "train_dataset.push_to_hub(\"gouthamsk/esp_idf_text\",split=\"train\")\n",
    "eval_dataset.push_to_hub(\"gouthamsk/esp_idf_text\",split=\"test\")"
   ]
  },
  {
   "cell_type": "code",
   "execution_count": null,
   "metadata": {},
   "outputs": [],
   "source": [
    "\n",
    "train_dataset,eval_dataset"
   ]
  },
  {
   "cell_type": "code",
   "execution_count": null,
   "metadata": {},
   "outputs": [],
   "source": []
  },
  {
   "cell_type": "code",
   "execution_count": null,
   "metadata": {},
   "outputs": [],
   "source": [
    "\n"
   ]
  },
  {
   "cell_type": "code",
   "execution_count": null,
   "metadata": {},
   "outputs": [],
   "source": [
    "\n",
    "tokenized_train_dataset = train_dataset.map(generate_and_tokenize_prompt)\n",
    "tokenized_val_dataset = eval_dataset.map(generate_and_tokenize_prompt)\n"
   ]
  },
  {
   "cell_type": "markdown",
   "metadata": {},
   "source": [
    "Bellow Code is to clean up code dataset\n"
   ]
  },
  {
   "cell_type": "code",
   "execution_count": null,
   "metadata": {},
   "outputs": [],
   "source": []
  }
 ],
 "metadata": {
  "kernelspec": {
   "display_name": "base",
   "language": "python",
   "name": "python3"
  },
  "language_info": {
   "codemirror_mode": {
    "name": "ipython",
    "version": 3
   },
   "file_extension": ".py",
   "mimetype": "text/x-python",
   "name": "python",
   "nbconvert_exporter": "python",
   "pygments_lexer": "ipython3",
   "version": "3.11.8"
  },
  "orig_nbformat": 4
 },
 "nbformat": 4,
 "nbformat_minor": 2
}
