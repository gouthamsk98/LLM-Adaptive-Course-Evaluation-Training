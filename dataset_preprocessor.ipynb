{
 "cells": [
  {
   "cell_type": "markdown",
   "metadata": {},
   "source": [
    "Install the dependency"
   ]
  },
  {
   "cell_type": "code",
   "execution_count": null,
   "metadata": {},
   "outputs": [],
   "source": [
    "!pip3 install nltk"
   ]
  },
  {
   "cell_type": "markdown",
   "metadata": {},
   "source": [
    "Util Function for clean up"
   ]
  },
  {
   "cell_type": "code",
   "execution_count": 385,
   "metadata": {},
   "outputs": [],
   "source": [
    "import os\n",
    "import re\n",
    "import pandas as pd\n",
    "import numpy as np\n",
    "\n",
    "\n",
    "def extract_text_from_folder(folder_path,column_name=\"text\"):\n",
    "    text_data = []\n",
    "    for root, dirs, files in os.walk(folder_path):\n",
    "        for file_name in files:\n",
    "            if file_name.endswith(('.txt', '.rst')):\n",
    "                file_path = os.path.join(root, file_name)\n",
    "                with open(file_path, 'r', encoding='utf-8') as file:\n",
    "                    text = file.read()\n",
    "                    text_data.append(text)\n",
    "       \n",
    "    text_data_df = pd.DataFrame(np.array(text_data), columns=[column_name])\n",
    "    return text_data_df\n",
    "\n",
    "def clean_text_data(text_data):\n",
    "    # Remove Markdown links\n",
    "    text_data = re.sub(r'\\:link_to_translation\\:\\`[^`]*\\`', '', text_data)\n",
    "    \n",
    "    # Remove code blocks\n",
    "    text_data = re.sub(r'```.*?```', '', text_data, flags=re.DOTALL)\n",
    "    \n",
    "    # Remove HTML tags\n",
    "    text_data = re.sub(r'<[^>]+>', '', text_data)\n",
    "    \n",
    "    # Remove section headers\n",
    "    text_data = re.sub(r'^=+\\n.*\\n=+\\n', '', text_data, flags=re.MULTILINE)\n",
    "    text_data = re.sub(r'^-+\\n.*\\n-+\\n', '', text_data, flags=re.MULTILINE)\n",
    "    \n",
    "    # Remove bulleted lists\n",
    "    text_data = re.sub(r'^\\s*\\*\\s+.*\\n', '', text_data, flags=re.MULTILINE)\n",
    "    \n",
    "    # Remove numbered lists\n",
    "    text_data = re.sub(r'^\\s*\\d+\\.\\s+.*\\n', '', text_data, flags=re.MULTILINE)\n",
    "    #Remove special sequence\n",
    "    text_data=re.sub(r'====+','',text_data) \n",
    "    text_data=re.sub(r'\\^\\^\\^\\^+','',text_data) \n",
    "    text_data=re.sub(r'----+','',text_data) \n",
    "    text_data=re.sub(r'\\*\\*\\*\\*\\*+','',text_data) \n",
    "    # Remove indentation and empty lines\n",
    "    # text_data = re.sub(r'^\\s+', '', text_data, flags=re.MULTILINE)\n",
    "    # text_data = re.sub(r'^\\n', '', text_data, flags=re.MULTILINE)\n",
    "    \n",
    "    return text_data"
   ]
  },
  {
   "cell_type": "markdown",
   "metadata": {},
   "source": [
    "Split the textual data into chunk"
   ]
  },
  {
   "cell_type": "code",
   "execution_count": 454,
   "metadata": {},
   "outputs": [],
   "source": [
    "\n",
    "import pandas as pd\n",
    "import nltk.data\n",
    "\n",
    "# Load the NLTK sentence tokenizer\n",
    "tokenizer = nltk.data.load('tokenizers/punkt/english.pickle')\n",
    "\n",
    "\n",
    "def split_text(text, chunk_size=500):\n",
    "    # Define regex pattern for identifying sentence endings\n",
    "    sentence_endings = r'[.!?]'\n",
    "    chunks = []\n",
    "    current_chunk = \"\"\n",
    "    current_length = 0\n",
    "    for char in text:\n",
    "        current_chunk += char\n",
    "        current_length += 1\n",
    "        if re.search(sentence_endings, char):\n",
    "            if current_length >= chunk_size:\n",
    "                chunks.append(current_chunk)\n",
    "                current_chunk = \"\"\n",
    "                current_length = 0\n",
    "    if current_chunk:  # Append any remaining part\n",
    "        chunks.append(current_chunk)\n",
    "    return chunks\n",
    "\n",
    "def split_dataframe_manual(df, column_name='text', chunk_size=500):\n",
    "    new_rows = []\n",
    "    for index, row in df.iterrows():\n",
    "        text = row[column_name]\n",
    "        chunks = split_text(text, chunk_size)\n",
    "        for chunk in chunks:\n",
    "            new_row = row.copy()\n",
    "            new_row[column_name] = chunk\n",
    "            new_rows.append(new_row)\n",
    "    return pd.DataFrame(new_rows)\n",
    "\n"
   ]
  },
  {
   "cell_type": "markdown",
   "metadata": {},
   "source": [
    "Token distribution plotting"
   ]
  },
  {
   "cell_type": "code",
   "execution_count": 458,
   "metadata": {},
   "outputs": [],
   "source": [
    "import matplotlib.pyplot as plt\n",
    "from transformers import AutoTokenizer, AutoModelForCausalLM, BitsAndBytesConfig\n",
    "base_model_id = \"mistralai/Mistral-7B-Instruct-v0.2\"\n",
    "tokenizer = AutoTokenizer.from_pretrained(\n",
    "    base_model_id,\n",
    "    padding_side=\"left\",\n",
    "    add_eos_token=True,\n",
    "    add_bos_token=True,\n",
    ")\n",
    "tokenizer.pad_token = tokenizer.eos_token\n",
    "\n",
    "def generate_and_tokenize_prompt(prompt):\n",
    "    return tokenizer(prompt[\"text\"])\n",
    "\n",
    "def plot_data_lengths(tokenized_train_dataset,column_name=\"text\"):\n",
    "    lengths = [len(x[column_name]) for x in tokenized_train_dataset]\n",
    "    # lengths += [len(x['text_data']) for x in tokenized_val_dataset]\n",
    "    print(len(lengths))\n",
    "\n",
    "    # Plotting the histogram\n",
    "    plt.figure(figsize=(10, 6))\n",
    "    plt.hist(lengths, bins=20, alpha=0.7, color='blue')\n",
    "    plt.xlabel('Length of input_ids')\n",
    "    plt.ylabel('Frequency')\n",
    "    plt.title('Distribution of Lengths of input_ids')\n",
    "    plt.show()\n",
    "\n"
   ]
  },
  {
   "cell_type": "code",
   "execution_count": 386,
   "metadata": {},
   "outputs": [
    {
     "data": {
      "text/html": [
       "<div>\n",
       "<style scoped>\n",
       "    .dataframe tbody tr th:only-of-type {\n",
       "        vertical-align: middle;\n",
       "    }\n",
       "\n",
       "    .dataframe tbody tr th {\n",
       "        vertical-align: top;\n",
       "    }\n",
       "\n",
       "    .dataframe thead th {\n",
       "        text-align: right;\n",
       "    }\n",
       "</style>\n",
       "<table border=\"1\" class=\"dataframe\">\n",
       "  <thead>\n",
       "    <tr style=\"text-align: right;\">\n",
       "      <th></th>\n",
       "      <th>text</th>\n",
       "    </tr>\n",
       "  </thead>\n",
       "  <tbody>\n",
       "    <tr>\n",
       "      <th>0</th>\n",
       "      <td>Migration Guides\\n*****************\\n\\n:link_t...</td>\n",
       "    </tr>\n",
       "    <tr>\n",
       "      <th>1</th>\n",
       "      <td>Migration from 5.0 to 5.1\\n-------------------...</td>\n",
       "    </tr>\n",
       "    <tr>\n",
       "      <th>2</th>\n",
       "      <td>Networking\\n===========\\n\\n:link_to_translatio...</td>\n",
       "    </tr>\n",
       "    <tr>\n",
       "      <th>3</th>\n",
       "      <td>GCC\\n***\\n\\n:link_to_translation:`zh_CN:[中文]`\\...</td>\n",
       "    </tr>\n",
       "    <tr>\n",
       "      <th>4</th>\n",
       "      <td>System\\n======\\n\\n:link_to_translation:`zh_CN:...</td>\n",
       "    </tr>\n",
       "    <tr>\n",
       "      <th>...</th>\n",
       "      <td>...</td>\n",
       "    </tr>\n",
       "    <tr>\n",
       "      <th>362</th>\n",
       "      <td>====================\\nESP-LyraP-LCD32 v1.1\\n==...</td>\n",
       "    </tr>\n",
       "    <tr>\n",
       "      <th>363</th>\n",
       "      <td>==================\\nESP-LyraP-CAM v1.1\\n======...</td>\n",
       "    </tr>\n",
       "    <tr>\n",
       "      <th>364</th>\n",
       "      <td>==================\\nESP-LyraP-CAM v1.0\\n======...</td>\n",
       "    </tr>\n",
       "    <tr>\n",
       "      <th>365</th>\n",
       "      <td>====================\\nESP-LyraP-LCD32 v1.2\\n==...</td>\n",
       "    </tr>\n",
       "    <tr>\n",
       "      <th>366</th>\n",
       "      <td>==================\\nESP32-S2-DevKitC-1\\n======...</td>\n",
       "    </tr>\n",
       "  </tbody>\n",
       "</table>\n",
       "<p>367 rows × 1 columns</p>\n",
       "</div>"
      ],
      "text/plain": [
       "                                                  text\n",
       "0    Migration Guides\\n*****************\\n\\n:link_t...\n",
       "1    Migration from 5.0 to 5.1\\n-------------------...\n",
       "2    Networking\\n===========\\n\\n:link_to_translatio...\n",
       "3    GCC\\n***\\n\\n:link_to_translation:`zh_CN:[中文]`\\...\n",
       "4    System\\n======\\n\\n:link_to_translation:`zh_CN:...\n",
       "..                                                 ...\n",
       "362  ====================\\nESP-LyraP-LCD32 v1.1\\n==...\n",
       "363  ==================\\nESP-LyraP-CAM v1.1\\n======...\n",
       "364  ==================\\nESP-LyraP-CAM v1.0\\n======...\n",
       "365  ====================\\nESP-LyraP-LCD32 v1.2\\n==...\n",
       "366  ==================\\nESP32-S2-DevKitC-1\\n======...\n",
       "\n",
       "[367 rows x 1 columns]"
      ]
     },
     "execution_count": 386,
     "metadata": {},
     "output_type": "execute_result"
    }
   ],
   "source": [
    "text_data = extract_text_from_folder(\"./raw_dataset_USFTHF/docs/\",column_name=\"text\")\n",
    "text_data\n"
   ]
  },
  {
   "cell_type": "code",
   "execution_count": 390,
   "metadata": {},
   "outputs": [
    {
     "data": {
      "text/html": [
       "<div>\n",
       "<style scoped>\n",
       "    .dataframe tbody tr th:only-of-type {\n",
       "        vertical-align: middle;\n",
       "    }\n",
       "\n",
       "    .dataframe tbody tr th {\n",
       "        vertical-align: top;\n",
       "    }\n",
       "\n",
       "    .dataframe thead th {\n",
       "        text-align: right;\n",
       "    }\n",
       "</style>\n",
       "<table border=\"1\" class=\"dataframe\">\n",
       "  <thead>\n",
       "    <tr style=\"text-align: right;\">\n",
       "      <th></th>\n",
       "      <th>text</th>\n",
       "    </tr>\n",
       "  </thead>\n",
       "  <tbody>\n",
       "    <tr>\n",
       "      <th>0</th>\n",
       "      <td>Migration Guides\\n\\n\\n\\n\\nESP-IDF 5.x Migratio...</td>\n",
       "    </tr>\n",
       "    <tr>\n",
       "      <th>1</th>\n",
       "      <td>Migration from 5.0 to 5.1\\n\\n\\n\\n\\n.. toctree:...</td>\n",
       "    </tr>\n",
       "    <tr>\n",
       "      <th>2</th>\n",
       "      <td>Networking\\n\\n\\n\\n\\nSNTP\\n\\n\\nSNTP module now ...</td>\n",
       "    </tr>\n",
       "    <tr>\n",
       "      <th>3</th>\n",
       "      <td>GCC\\n***\\n\\n\\n\\n\\nGCC Version\\n\\n\\nThe previou...</td>\n",
       "    </tr>\n",
       "    <tr>\n",
       "      <th>4</th>\n",
       "      <td>System\\n\\n\\n\\n\\nFreeRTOS\\n\\n\\n.. only:: SOC_SP...</td>\n",
       "    </tr>\n",
       "    <tr>\n",
       "      <th>...</th>\n",
       "      <td>...</td>\n",
       "    </tr>\n",
       "    <tr>\n",
       "      <th>362</th>\n",
       "      <td>\\n\\n\\nThis user guide provides information on ...</td>\n",
       "    </tr>\n",
       "    <tr>\n",
       "      <th>363</th>\n",
       "      <td>\\n\\n\\nThis user guide provides information on ...</td>\n",
       "    </tr>\n",
       "    <tr>\n",
       "      <th>364</th>\n",
       "      <td>\\n\\n\\nThis user guide provides information on ...</td>\n",
       "    </tr>\n",
       "    <tr>\n",
       "      <th>365</th>\n",
       "      <td>\\n\\n\\nThis user guide provides information on ...</td>\n",
       "    </tr>\n",
       "    <tr>\n",
       "      <th>366</th>\n",
       "      <td>\\n\\n\\nThis user guide will help you get starte...</td>\n",
       "    </tr>\n",
       "  </tbody>\n",
       "</table>\n",
       "<p>362 rows × 1 columns</p>\n",
       "</div>"
      ],
      "text/plain": [
       "                                                  text\n",
       "0    Migration Guides\\n\\n\\n\\n\\nESP-IDF 5.x Migratio...\n",
       "1    Migration from 5.0 to 5.1\\n\\n\\n\\n\\n.. toctree:...\n",
       "2    Networking\\n\\n\\n\\n\\nSNTP\\n\\n\\nSNTP module now ...\n",
       "3    GCC\\n***\\n\\n\\n\\n\\nGCC Version\\n\\n\\nThe previou...\n",
       "4    System\\n\\n\\n\\n\\nFreeRTOS\\n\\n\\n.. only:: SOC_SP...\n",
       "..                                                 ...\n",
       "362  \\n\\n\\nThis user guide provides information on ...\n",
       "363  \\n\\n\\nThis user guide provides information on ...\n",
       "364  \\n\\n\\nThis user guide provides information on ...\n",
       "365  \\n\\n\\nThis user guide provides information on ...\n",
       "366  \\n\\n\\nThis user guide will help you get starte...\n",
       "\n",
       "[362 rows x 1 columns]"
      ]
     },
     "execution_count": 390,
     "metadata": {},
     "output_type": "execute_result"
    }
   ],
   "source": [
    "clean_data = text_data.drop_duplicates()\n",
    "clean_data = clean_data.map(clean_text_data)\n",
    "clean_data.to_csv('clean_data.csv', index=False)\n",
    "clean_data"
   ]
  },
  {
   "cell_type": "code",
   "execution_count": 420,
   "metadata": {},
   "outputs": [
    {
     "data": {
      "text/plain": [
       "Dataset({\n",
       "    features: ['text', '__index_level_0__'],\n",
       "    num_rows: 362\n",
       "})"
      ]
     },
     "execution_count": 420,
     "metadata": {},
     "output_type": "execute_result"
    }
   ],
   "source": [
    "from datasets import Dataset\n",
    "train_dataset = Dataset.from_pandas(clean_data)\n",
    "train_dataset= train_dataset.map()"
   ]
  },
  {
   "cell_type": "code",
   "execution_count": 430,
   "metadata": {},
   "outputs": [
    {
     "name": "stderr",
     "output_type": "stream",
     "text": [
      "Map: 100%|██████████| 37842/37842 [00:03<00:00, 12505.63 examples/s]\n"
     ]
    },
    {
     "name": "stdout",
     "output_type": "stream",
     "text": [
      "37842\n"
     ]
    },
    {
     "data": {
      "image/png": "[encoded data removed]",
      "text/plain": [
       "<Figure size 1000x600 with 1 Axes>"
      ]
     },
     "metadata": {},
     "output_type": "display_data"
    }
   ],
   "source": [
    "tokenized_train_dataset = train_dataset.map(generate_and_tokenize_prompt)\n",
    "tokenized_train_dataset = train_dataset.map(generate_and_tokenize_prompt)\n",
    "plot_data_lengths(tokenized_train_dataset)"
   ]
  },
  {
   "cell_type": "code",
   "execution_count": 456,
   "metadata": {},
   "outputs": [
    {
     "data": {
      "text/plain": [
       "Dataset({\n",
       "    features: ['text', '__index_level_0__'],\n",
       "    num_rows: 3001\n",
       "})"
      ]
     },
     "execution_count": 456,
     "metadata": {},
     "output_type": "execute_result"
    }
   ],
   "source": [
    "# split_data=split_dataframe_manual(clean_data,column_name=\"text\",max_chunk_size=1000,max_total_size=4000)\n",
    "split_data=split_dataframe_manual(clean_data,column_name=\"text\",chunk_size=1000)\n",
    "\n",
    "split_data\n",
    "train_dataset = Dataset.from_pandas(split_data)\n",
    "train_dataset"
   ]
  },
  {
   "cell_type": "code",
   "execution_count": 475,
   "metadata": {},
   "outputs": [
    {
     "data": {
      "text/html": [
       "<div>\n",
       "<style scoped>\n",
       "    .dataframe tbody tr th:only-of-type {\n",
       "        vertical-align: middle;\n",
       "    }\n",
       "\n",
       "    .dataframe tbody tr th {\n",
       "        vertical-align: top;\n",
       "    }\n",
       "\n",
       "    .dataframe thead th {\n",
       "        text-align: right;\n",
       "    }\n",
       "</style>\n",
       "<table border=\"1\" class=\"dataframe\">\n",
       "  <thead>\n",
       "    <tr style=\"text-align: right;\">\n",
       "      <th></th>\n",
       "      <th>text</th>\n",
       "    </tr>\n",
       "  </thead>\n",
       "  <tbody>\n",
       "    <tr>\n",
       "      <th>0</th>\n",
       "      <td>Migration Guides\\n\\n\\n\\n\\nESP-IDF 5.x Migratio...</td>\n",
       "    </tr>\n",
       "    <tr>\n",
       "      <th>1</th>\n",
       "      <td>Migration from 5.0 to 5.1\\n\\n\\n\\n\\n.. toctree:...</td>\n",
       "    </tr>\n",
       "    <tr>\n",
       "      <th>2</th>\n",
       "      <td>Networking\\n\\n\\n\\n\\nSNTP\\n\\n\\nSNTP module now ...</td>\n",
       "    </tr>\n",
       "    <tr>\n",
       "      <th>3</th>\n",
       "      <td>GCC\\n***\\n\\n\\n\\n\\nGCC Version\\n\\n\\nThe previou...</td>\n",
       "    </tr>\n",
       "    <tr>\n",
       "      <th>3</th>\n",
       "      <td>There is an example of how it was fixed in ES...</td>\n",
       "    </tr>\n",
       "    <tr>\n",
       "      <th>...</th>\n",
       "      <td>...</td>\n",
       "    </tr>\n",
       "    <tr>\n",
       "      <th>366</th>\n",
       "      <td>\\n\\n\\nRequired Hardware\\n\\n\\n- ESP32-S2-DevKit...</td>\n",
       "    </tr>\n",
       "    <tr>\n",
       "      <th>366</th>\n",
       "      <td>. [#] The ESP32-S2-SOLO-2 and ESP32-S2-SOLO-2U...</td>\n",
       "    </tr>\n",
       "    <tr>\n",
       "      <th>366</th>\n",
       "      <td>. _user-guide-s2-devkitc-1-v1-header-blocks:\\n...</td>\n",
       "    </tr>\n",
       "    <tr>\n",
       "      <th>366</th>\n",
       "      <td>Name  Type    Function\\n===       \\n1    G  ...</td>\n",
       "    </tr>\n",
       "    <tr>\n",
       "      <th>366</th>\n",
       "      <td>\\n.. [#] GPIO18 is not pulled up on boards wit...</td>\n",
       "    </tr>\n",
       "  </tbody>\n",
       "</table>\n",
       "<p>3001 rows × 1 columns</p>\n",
       "</div>"
      ],
      "text/plain": [
       "                                                  text\n",
       "0    Migration Guides\\n\\n\\n\\n\\nESP-IDF 5.x Migratio...\n",
       "1    Migration from 5.0 to 5.1\\n\\n\\n\\n\\n.. toctree:...\n",
       "2    Networking\\n\\n\\n\\n\\nSNTP\\n\\n\\nSNTP module now ...\n",
       "3    GCC\\n***\\n\\n\\n\\n\\nGCC Version\\n\\n\\nThe previou...\n",
       "3     There is an example of how it was fixed in ES...\n",
       "..                                                 ...\n",
       "366  \\n\\n\\nRequired Hardware\\n\\n\\n- ESP32-S2-DevKit...\n",
       "366  . [#] The ESP32-S2-SOLO-2 and ESP32-S2-SOLO-2U...\n",
       "366  . _user-guide-s2-devkitc-1-v1-header-blocks:\\n...\n",
       "366    Name  Type    Function\\n===       \\n1    G  ...\n",
       "366  \\n.. [#] GPIO18 is not pulled up on boards wit...\n",
       "\n",
       "[3001 rows x 1 columns]"
      ]
     },
     "execution_count": 475,
     "metadata": {},
     "output_type": "execute_result"
    }
   ],
   "source": [
    "split_data"
   ]
  },
  {
   "cell_type": "code",
   "execution_count": 476,
   "metadata": {},
   "outputs": [
    {
     "name": "stderr",
     "output_type": "stream",
     "text": [
      "Map: 100%|██████████| 3001/3001 [00:00<00:00, 3329.95 examples/s]\n"
     ]
    },
    {
     "name": "stdout",
     "output_type": "stream",
     "text": [
      "3001\n"
     ]
    },
    {
     "data": {
      "image/png": "[encoded data removed]",
      "text/plain": [
       "<Figure size 1000x600 with 1 Axes>"
      ]
     },
     "metadata": {},
     "output_type": "display_data"
    }
   ],
   "source": [
    "\n",
    "tokenized_train_dataset = train_dataset.map(generate_and_tokenize_prompt)\n",
    "plot_data_lengths(tokenized_train_dataset)\n"
   ]
  },
  {
   "cell_type": "code",
   "execution_count": 461,
   "metadata": {},
   "outputs": [
    {
     "name": "stderr",
     "output_type": "stream",
     "text": [
      "Creating parquet from Arrow format: 100%|██████████| 4/4 [00:00<00:00, 182.03ba/s]\n",
      "Uploading the dataset shards: 100%|██████████| 1/1 [00:00<00:00,  1.64it/s]\n"
     ]
    },
    {
     "data": {
      "text/plain": [
       "CommitInfo(commit_url='https://huggingface.co/datasets/gouthamsk/esp_idf_text/commit/c2ce874b7c5a55a0bae6794bef7ce94d28133cbd', commit_message='Upload dataset', commit_description='', oid='c2ce874b7c5a55a0bae6794bef7ce94d28133cbd', pr_url=None, pr_revision=None, pr_num=None)"
      ]
     },
     "execution_count": 461,
     "metadata": {},
     "output_type": "execute_result"
    }
   ],
   "source": [
    "train_dataset.push_to_hub(\"gouthamsk/esp_idf_text\",split=\"train\")\n",
    "\n"
   ]
  },
  {
   "cell_type": "code",
   "execution_count": 472,
   "metadata": {},
   "outputs": [
    {
     "data": {
      "text/plain": [
       "[['t', 'e', 'x', 't']]"
      ]
     },
     "execution_count": 472,
     "metadata": {},
     "output_type": "execute_result"
    }
   ],
   "source": [
    "filtered_dataset"
   ]
  },
  {
   "cell_type": "code",
   "execution_count": null,
   "metadata": {},
   "outputs": [],
   "source": [
    "from datasets import Dataset\n",
    "train_dataset = Dataset.from_pandas(new_df)\n",
    "tokenized_train_dataset = train_dataset.map(generate_and_tokenize_prompt)"
   ]
  },
  {
   "cell_type": "code",
   "execution_count": null,
   "metadata": {},
   "outputs": [],
   "source": [
    "tokenized_train_dataset"
   ]
  },
  {
   "cell_type": "code",
   "execution_count": null,
   "metadata": {},
   "outputs": [],
   "source": [
    "from sklearn.model_selection import train_test_split\n",
    "from datasets import Dataset\n",
    "# Drop duplicate rows across all columns\n",
    "\n",
    "train_data, test_data = train_test_split(new_df, test_size=0.1)\n"
   ]
  },
  {
   "cell_type": "code",
   "execution_count": null,
   "metadata": {},
   "outputs": [],
   "source": [
    "tokenized_train_dataset = split_train_data.map(generate_and_tokenize_prompt)"
   ]
  },
  {
   "cell_type": "code",
   "execution_count": null,
   "metadata": {},
   "outputs": [],
   "source": [
    "train_dataset = Dataset.from_pandas(split_train_data)\n",
    "train_dataset.push_to_hub(\"gouthamsk/esp_idf_text\",split=\"train\")"
   ]
  },
  {
   "cell_type": "code",
   "execution_count": null,
   "metadata": {},
   "outputs": [],
   "source": [
    "from sklearn.model_selection import train_test_split\n",
    "from datasets import Dataset\n",
    "# Drop duplicate rows across all columns\n",
    "new_df = new_df.drop_duplicates()\n",
    "train_data, test_data = train_test_split(new_df, test_size=0.2)\n",
    "train_dataset = Dataset.from_pandas(train_data)\n",
    "eval_dataset = Dataset.from_pandas(test_data)"
   ]
  },
  {
   "cell_type": "code",
   "execution_count": null,
   "metadata": {},
   "outputs": [],
   "source": [
    "test_data"
   ]
  },
  {
   "cell_type": "code",
   "execution_count": null,
   "metadata": {},
   "outputs": [],
   "source": [
    "\n",
    "train_dataset.push_to_hub(\"gouthamsk/esp_idf_text\",split=\"train\")\n",
    "eval_dataset.push_to_hub(\"gouthamsk/esp_idf_text\",split=\"test\")"
   ]
  },
  {
   "cell_type": "code",
   "execution_count": null,
   "metadata": {},
   "outputs": [],
   "source": [
    "\n",
    "train_dataset,eval_dataset"
   ]
  },
  {
   "cell_type": "code",
   "execution_count": null,
   "metadata": {},
   "outputs": [],
   "source": []
  },
  {
   "cell_type": "code",
   "execution_count": null,
   "metadata": {},
   "outputs": [],
   "source": [
    "\n"
   ]
  },
  {
   "cell_type": "code",
   "execution_count": null,
   "metadata": {},
   "outputs": [],
   "source": [
    "\n",
    "tokenized_train_dataset = train_dataset.map(generate_and_tokenize_prompt)\n",
    "tokenized_val_dataset = eval_dataset.map(generate_and_tokenize_prompt)\n"
   ]
  },
  {
   "cell_type": "markdown",
   "metadata": {},
   "source": [
    "Bellow Code is to clean up code dataset\n"
   ]
  },
  {
   "cell_type": "code",
   "execution_count": null,
   "metadata": {},
   "outputs": [],
   "source": []
  }
 ],
 "metadata": {
  "kernelspec": {
   "display_name": "base",
   "language": "python",
   "name": "python3"
  },
  "language_info": {
   "codemirror_mode": {
    "name": "ipython",
    "version": 3
   },
   "file_extension": ".py",
   "mimetype": "text/x-python",
   "name": "python",
   "nbconvert_exporter": "python",
   "pygments_lexer": "ipython3",
   "version": "3.11.8"
  },
  "orig_nbformat": 4
 },
 "nbformat": 4,
 "nbformat_minor": 2
}
